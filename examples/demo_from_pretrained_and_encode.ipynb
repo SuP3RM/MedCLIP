{
 "cells": [
  {
   "cell_type": "code",
   "execution_count": 1,
   "metadata": {},
   "outputs": [],
   "source": [
    "import os\n",
    "os.chdir('../')"
   ]
  },
  {
   "cell_type": "markdown",
   "metadata": {},
   "source": [
    "# Implement a zero-shot function for medclip"
   ]
  },
  {
   "cell_type": "code",
   "execution_count": 2,
   "metadata": {},
   "outputs": [],
   "source": [
    "# implement a zero-shot function for medclip\n",
    "\n",
    "import torch\n",
    "import torchvision\n",
    "from transformers import AutoTokenizer\n",
    "from torch.utils.data import DataLoader\n",
    "from tqdm import tqdm\n",
    "\n",
    "# Device configuration\n",
    "from medclip import MedCLIPModel, MedCLIPVisionModelViT\n",
    "from medclip.modeling_medclip import MedCLIPVisionModel\n",
    "\n",
    "# debuggin\n",
    "from PIL import Image\n",
    "\n",
    "# prepare for the demo image and texts\n",
    "from build.lib.medclip.constants import BERT_TYPE, IMG_MEAN, IMG_STD, IMG_SIZE\n",
    "device = torch.device('cuda' if torch.cuda.is_available() else 'cpu')\n",
    "from data_utils import load_dataset, LESION_TYPE, load_ham10000_dataset\n",
    "\n",
    "BATCH_SIZE = 64\n",
    "\n",
    "# def medclip_zero_shot_inline(test_dataset, classes, batch_size=BATCH_SIZE):\n",
    "#     # Device configuration\n",
    "#     device = torch.device('cuda' if torch.cuda.is_available() else 'cpu')\n",
    "#     # Data loader for the dataset\n",
    "#     data_loader = DataLoader(test_dataset, batch_size=batch_size, shuffle=True, num_workers=2)\n",
    "#     print(f\"Device: {device}\")\n",
    "\n",
    "#     # Initialize MedClip Models\n",
    "#     model = MedCLIPModel(vision_cls=MedCLIPVisionModelViT).to(device)\n",
    "\n",
    "#     # Prepare text prompts\n",
    "#     text_prompts = [f\"a photo of a {c}, a type of skin lesion.\" for c in classes]\n",
    "#     # Initialize the tokenizer\n",
    "#     tokenizer = AutoTokenizer.from_pretrained(BERT_TYPE)\n",
    "\n",
    "#     # Tokenize text prompts and convert to tensors\n",
    "#     text_tokens = [tokenizer(text, return_tensors='pt', padding=True, truncation=True, add_special_tokens=True) for text in text_prompts]\n",
    "\n",
    "#     # Encode text prompts using MedClip's text model\n",
    "#     # Inside the medclip_zero_shot function\n",
    "#     text_features = [\n",
    "#         model.encode_text(\n",
    "#             input_ids=tokens['input_ids'].to(device), \n",
    "#             attention_mask=tokens['attention_mask'].to(device)\n",
    "#         ) \n",
    "#         for tokens in text_tokens\n",
    "#     ]\n",
    "\n",
    "#     # Initialize variables for accuracy calculation\n",
    "#     correct = 0\n",
    "#     total = 0\n",
    "\n",
    "#     for images, labels in tqdm(data_loader):\n",
    "#         images, labels = images.to(device), labels.to(device)\n",
    "\n",
    "#         # TODO: Encode images using MedClip's vision model\n",
    "#         image_features = model.encode_image(images)\n",
    "\n",
    "#         # Flatten text_features into a single 2D tensor\n",
    "#         text_features_tensor = torch.cat(text_features, dim=0)\n",
    "\n",
    "#         # Calculate similarity and make predictions\n",
    "#         similarity = torch.matmul(image_features, text_features_tensor.t())\n",
    "#         _, predictions = similarity.max(dim=-1)\n",
    "\n",
    "#         # Update correct and total counts\n",
    "#         correct += (predictions == labels).sum().item()\n",
    "#         total += labels.size(0)\n",
    "\n",
    "#     return correct / total\n",
    "\n",
    "# # Load HAM10000 dataset\n",
    "# transform = torchvision.transforms.Compose([\n",
    "#     torchvision.transforms.Resize((IMG_SIZE, IMG_SIZE)),\n",
    "#     torchvision.transforms.ToTensor(),\n",
    "#     torchvision.transforms.Normalize(mean=[IMG_MEAN], std=[IMG_STD])\n",
    "# ])\n",
    "\n",
    "# # train_dataset, test_dataset = load_ham10000_dataset(transform=transform, data_dir='data/ham10000')\n",
    "# train_dataset, test_dataset = load_dataset(\"HAM10000\", transform=transform, data_dir='data/ham10000/')\n",
    "# classes = list(LESION_TYPE.values())  # From the data_utils.py file\n",
    "\n",
    "# # Run zero-shot classification\n",
    "# acc = medclip_zero_shot_inline(test_dataset, classes)\n",
    "# print(f\"Accuracy: {acc:.2f}\")"
   ]
  },
  {
   "cell_type": "code",
   "execution_count": 3,
   "metadata": {},
   "outputs": [],
   "source": [
    "def medclip_zero_shot(model, test_dataset, classes, batch_size=BATCH_SIZE):\n",
    "    # Data loader for the dataset\n",
    "    data_loader = DataLoader(test_dataset, batch_size=batch_size, shuffle=True, num_workers=4)\n",
    "\n",
    "    # Prepare text prompts\n",
    "    text_prompts = [f\"a photo of a {c}, a type of skin lesion.\" for c in classes]\n",
    "    # Initialize the tokenizer\n",
    "    tokenizer = AutoTokenizer.from_pretrained(BERT_TYPE)\n",
    "    device = torch.device('cuda' if torch.cuda.is_available() else 'cpu')\n",
    "    print(f\"Device: {device}\")\n",
    "\n",
    "    # Tokenize text prompts and convert to tensors\n",
    "    text_tokens = [tokenizer(text, return_tensors='pt', padding=True, truncation=False, add_special_tokens=True) for text in text_prompts]\n",
    "\n",
    "    # Encode text prompts using MedClip's text model\n",
    "    # Inside the medclip_zero_shot function\n",
    "    text_features = [\n",
    "        model.encode_text(\n",
    "            input_ids=tokens['input_ids'].to(device), \n",
    "            attention_mask=tokens['attention_mask'].to(device)\n",
    "        ) \n",
    "        for tokens in text_tokens\n",
    "    ]\n",
    "\n",
    "    # Initialize variables for accuracy calculation\n",
    "    correct = 0\n",
    "    total = 0\n",
    "\n",
    "    for images, labels in tqdm(data_loader):\n",
    "        images, labels = images.to(device), labels.to(device)\n",
    "        # Encode images using MedClip's vision model\n",
    "        # with torch.no_grad():\n",
    "        image_features = model.encode_image(images)\n",
    "        # Flatten text_features into a single 2D tensor\n",
    "        text_features_tensor = torch.cat(text_features, dim=0)\n",
    "\n",
    "        # Calculate similarity and make predictions\n",
    "        similarity = torch.matmul(image_features, text_features_tensor.t())\n",
    "        _, predictions = similarity.max(dim=-1)\n",
    "\n",
    "        # Update correct and total counts\n",
    "        correct += (predictions == labels).sum().item()\n",
    "        total += len(labels)\n",
    "\n",
    "    return correct / total"
   ]
  },
  {
   "cell_type": "markdown",
   "metadata": {},
   "source": [
    "## Load HAM10000 dataset and test MedClip's zero-shot capabilities"
   ]
  },
  {
   "cell_type": "code",
   "execution_count": 4,
   "metadata": {},
   "outputs": [
    {
     "name": "stdout",
     "output_type": "stream",
     "text": [
      "Loading HAM10000 dataset...\n"
     ]
    }
   ],
   "source": [
    "transform = torchvision.transforms.Compose([\n",
    "    torchvision.transforms.Resize((IMG_SIZE, IMG_SIZE)),\n",
    "    torchvision.transforms.ToTensor(),\n",
    "    torchvision.transforms.Normalize(mean=[IMG_MEAN], std=[IMG_STD])\n",
    "])\n",
    "\n",
    "ham_train, ham_test = load_dataset(\"HAM10000\", transform=transform, data_dir='data/ham10000/')\n",
    "classes = list(LESION_TYPE.values())  # From the data_utils.py file\n"
   ]
  },
  {
   "cell_type": "markdown",
   "metadata": {},
   "source": [
    "MedCLIP_ResNet50_model"
   ]
  },
  {
   "cell_type": "code",
   "execution_count": 6,
   "metadata": {},
   "outputs": [
    {
     "name": "stderr",
     "output_type": "stream",
     "text": [
      "Some weights of the model checkpoint at emilyalsentzer/Bio_ClinicalBERT were not used when initializing BertModel: ['cls.predictions.transform.dense.bias', 'cls.predictions.transform.LayerNorm.bias', 'cls.predictions.bias', 'cls.predictions.decoder.weight', 'cls.seq_relationship.bias', 'cls.seq_relationship.weight', 'cls.predictions.transform.LayerNorm.weight', 'cls.predictions.transform.dense.weight']\n",
      "- This IS expected if you are initializing BertModel from the checkpoint of a model trained on another task or with another architecture (e.g. initializing a BertForSequenceClassification model from a BertForPreTraining model).\n",
      "- This IS NOT expected if you are initializing BertModel from the checkpoint of a model that you expect to be exactly identical (initializing a BertForSequenceClassification model from a BertForSequenceClassification model).\n"
     ]
    },
    {
     "name": "stdout",
     "output_type": "stream",
     "text": [
      "Device: cuda\n"
     ]
    },
    {
     "name": "stderr",
     "output_type": "stream",
     "text": [
      "100%|██████████| 141/141 [00:22<00:00,  6.19it/s]"
     ]
    },
    {
     "name": "stdout",
     "output_type": "stream",
     "text": [
      "\n",
      "Accuracy = 46.500%\n"
     ]
    },
    {
     "name": "stderr",
     "output_type": "stream",
     "text": [
      "\n"
     ]
    }
   ],
   "source": [
    "# load MedCLIP-ResNet50\n",
    "MedCLIP_ResNet50_model = MedCLIPModel(vision_cls=MedCLIPVisionModel).to(device)\n",
    "accuracy = medclip_zero_shot(MedCLIP_ResNet50_model, ham_train, classes)\n",
    "print(f\"\\nAccuracy = {100*accuracy:.3f}%\")"
   ]
  },
  {
   "cell_type": "markdown",
   "metadata": {},
   "source": [
    "MedCLIP_ViT_model"
   ]
  },
  {
   "cell_type": "code",
   "execution_count": 15,
   "metadata": {},
   "outputs": [
    {
     "name": "stderr",
     "output_type": "stream",
     "text": [
      "Some weights of the model checkpoint at microsoft/swin-tiny-patch4-window7-224 were not used when initializing SwinModel: ['classifier.weight', 'classifier.bias']\n",
      "- This IS expected if you are initializing SwinModel from the checkpoint of a model trained on another task or with another architecture (e.g. initializing a BertForSequenceClassification model from a BertForPreTraining model).\n",
      "- This IS NOT expected if you are initializing SwinModel from the checkpoint of a model that you expect to be exactly identical (initializing a BertForSequenceClassification model from a BertForSequenceClassification model).\n",
      "Some weights of the model checkpoint at emilyalsentzer/Bio_ClinicalBERT were not used when initializing BertModel: ['cls.predictions.transform.dense.bias', 'cls.predictions.transform.LayerNorm.bias', 'cls.predictions.bias', 'cls.predictions.decoder.weight', 'cls.seq_relationship.bias', 'cls.seq_relationship.weight', 'cls.predictions.transform.LayerNorm.weight', 'cls.predictions.transform.dense.weight']\n",
      "- This IS expected if you are initializing BertModel from the checkpoint of a model trained on another task or with another architecture (e.g. initializing a BertForSequenceClassification model from a BertForPreTraining model).\n",
      "- This IS NOT expected if you are initializing BertModel from the checkpoint of a model that you expect to be exactly identical (initializing a BertForSequenceClassification model from a BertForSequenceClassification model).\n"
     ]
    },
    {
     "name": "stdout",
     "output_type": "stream",
     "text": [
      "Device: cuda\n"
     ]
    },
    {
     "name": "stderr",
     "output_type": "stream",
     "text": [
      "100%|██████████| 141/141 [00:24<00:00,  5.65it/s]"
     ]
    },
    {
     "name": "stdout",
     "output_type": "stream",
     "text": [
      "\n",
      "Accuracy = 32.653%\n"
     ]
    },
    {
     "name": "stderr",
     "output_type": "stream",
     "text": [
      "\n"
     ]
    }
   ],
   "source": [
    "# load MedCLIP-ViT\n",
    "MedCLIP_ViT_model = MedCLIPModel(vision_cls=MedCLIPVisionModelViT).to(device)\n",
    "accuracy = medclip_zero_shot(MedCLIP_ViT_model, ham_train, classes)\n",
    "print(f\"\\nAccuracy = {100*accuracy:.3f}%\")"
   ]
  },
  {
   "cell_type": "markdown",
   "metadata": {},
   "source": [
    "## Load NIH Chest X-ray dataset"
   ]
  },
  {
   "cell_type": "code",
   "execution_count": null,
   "metadata": {},
   "outputs": [],
   "source": [
    "import os\n",
    "os.chdir('../')"
   ]
  },
  {
   "cell_type": "code",
   "execution_count": null,
   "metadata": {},
   "outputs": [],
   "source": [
    "import torch\n",
    "import torchvision\n",
    "import torch.nn.functional as F\n",
    "from tqdm import tqdm\n",
    "from transformers import AutoTokenizer\n",
    "from torch.utils.data import DataLoader\n",
    "\n",
    "# Device configuration\n",
    "from data_utils import load_nih_dataset_split, NIH_CLASS_TYPES, load_dataset\n",
    "from medclip import MedCLIPModel, MedCLIPVisionModelViT, MedCLIPVisionModel\n",
    "from build.lib.medclip.constants import BERT_TYPE, IMG_MEAN, IMG_STD, IMG_SIZE\n",
    "\n",
    "# debuggin\n",
    "from PIL import Image\n",
    "\n",
    "BATCH_SIZE = 128\n",
    "\n",
    "transform = torchvision.transforms.Compose([\n",
    "    torchvision.transforms.Resize((IMG_SIZE, IMG_SIZE)),\n",
    "    torchvision.transforms.ToTensor(),\n",
    "    torchvision.transforms.Normalize(mean=[IMG_MEAN], std=[IMG_STD])\n",
    "])\n",
    "\n",
    "device = torch.device('cuda' if torch.cuda.is_available() else 'cpu')\n",
    "# NIH_CLASS_TYPES\n",
    "classes = list(NIH_CLASS_TYPES)  # From the data_utils.py file\n",
    "classes\n",
    "\n",
    "# nih_train, nih_test = load_nih_dataset_split(transform=transform)\n",
    "nih_train, nih_test = load_dataset(\"NIH\", transform=transform, data_dir='data/nih/')\n",
    "nih_train, nih_test"
   ]
  },
  {
   "cell_type": "code",
   "execution_count": null,
   "metadata": {},
   "outputs": [],
   "source": [
    "def medclip_zero_shot(model, test_dataset, classes, batch_size=BATCH_SIZE):\n",
    "    # Data loader for the dataset\n",
    "    data_loader = DataLoader(test_dataset, batch_size=batch_size, shuffle=True, num_workers=2)\n",
    "\n",
    "    # Prepare text prompts\n",
    "    text_prompts = [f\"a photo of a {c}, a type of skin lesion.\" for c in classes]\n",
    "    # Initialize the tokenizer\n",
    "    tokenizer = AutoTokenizer.from_pretrained(BERT_TYPE)\n",
    "    device = torch.device('cuda' if torch.cuda.is_available() else 'cpu')\n",
    "    print(f\"Device: {device}\")\n",
    "\n",
    "    # Tokenize text prompts and convert to tensors\n",
    "    text_tokens = [tokenizer(text, return_tensors='pt', padding=True, truncation=False, add_special_tokens=True) for text in text_prompts]\n",
    "\n",
    "    # Encode text prompts using MedClip's text model\n",
    "    # Inside the medclip_zero_shot function\n",
    "    text_features = [\n",
    "        model.encode_text(\n",
    "            input_ids=tokens['input_ids'].to(device), \n",
    "            attention_mask=tokens['attention_mask'].to(device)\n",
    "        ) \n",
    "        for tokens in text_tokens\n",
    "    ]\n",
    "\n",
    "    # Initialize variables for accuracy calculation\n",
    "    correct = 0\n",
    "    total = 0\n",
    "\n",
    "    for images, labels in tqdm(data_loader):\n",
    "        images, labels = images.to(device), labels.to(device)\n",
    "        image_features = model.encode_image(images)\n",
    "        text_features_tensor = torch.cat(text_features, dim=0)\n",
    "\n",
    "        similarity = torch.matmul(image_features, text_features_tensor.t())\n",
    "        probabilities = F.sigmoid(similarity)  # Convert to probabilities\n",
    "        predictions = (probabilities > 0.5).float()  # Apply threshold to get binary predictions\n",
    "\n",
    "        # Update correct and total counts\n",
    "        # Calculate correct predictions in a multi-label scenario\n",
    "        correct_preds = (predictions == labels).all(dim=1).sum().item()\n",
    "        correct += correct_preds\n",
    "        total += len(labels)\n",
    "\n",
    "    return correct / total"
   ]
  },
  {
   "cell_type": "code",
   "execution_count": null,
   "metadata": {},
   "outputs": [],
   "source": [
    "# load MedCLIP-ResNet50\n",
    "MedCLIP_ResNet50_model = MedCLIPModel(vision_cls=MedCLIPVisionModel).to(device)\n",
    "MedCLIP_ResNet50_model\n",
    "accuracy = medclip_zero_shot(MedCLIP_ResNet50_model, nih_train, classes)\n",
    "print(f\"\\nAccuracy = {100*accuracy:.3f}%\")"
   ]
  },
  {
   "cell_type": "code",
   "execution_count": null,
   "metadata": {},
   "outputs": [],
   "source": [
    "# load MedCLIP-ViT\n",
    "MedCLIP_ViT_model = MedCLIPModel(vision_cls=MedCLIPVisionModelViT).to(device)\n",
    "accuracy = medclip_zero_shot(MedCLIP_ViT_model, nih_train, classes)\n",
    "print(f\"\\nAccuracy = {100*accuracy:.3f}%\")"
   ]
  }
 ],
 "metadata": {
  "kernelspec": {
   "display_name": "Python 3 (ipykernel)",
   "language": "python",
   "name": "python3"
  },
  "language_info": {
   "codemirror_mode": {
    "name": "ipython",
    "version": 3
   },
   "file_extension": ".py",
   "mimetype": "text/x-python",
   "name": "python",
   "nbconvert_exporter": "python",
   "pygments_lexer": "ipython3",
   "version": "3.11.4"
  }
 },
 "nbformat": 4,
 "nbformat_minor": 5
}
